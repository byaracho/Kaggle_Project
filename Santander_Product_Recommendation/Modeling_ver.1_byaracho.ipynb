{
 "cells": [
  {
   "cell_type": "code",
   "execution_count": 1,
   "metadata": {},
   "outputs": [
    {
     "name": "stderr",
     "output_type": "stream",
     "text": [
      "/anaconda3/lib/python3.6/site-packages/sklearn/cross_validation.py:41: DeprecationWarning: This module was deprecated in version 0.18 in favor of the model_selection module into which all the refactored classes and functions are moved. Also note that the interface of the new CV iterators are different from that of this module. This module will be removed in 0.20.\n",
      "  \"This module will be removed in 0.20.\", DeprecationWarning)\n",
      "/anaconda3/lib/python3.6/site-packages/statsmodels/compat/pandas.py:56: FutureWarning: The pandas.core.datetools module is deprecated and will be removed in a future version. Please use the pandas.tseries module instead.\n",
      "  from pandas.core import datetools\n"
     ]
    }
   ],
   "source": [
    "import time\n",
    "import sys\n",
    "import numpy as np\n",
    "import pandas as pd\n",
    "from sklearn.cross_validation import train_test_split, KFold\n",
    "import multiprocessing\n",
    "import os\n",
    "from tqdm import tqdm\n",
    "from scipy import sparse\n",
    "import datetime as dt\n",
    "from datetime import date\n",
    "import calendar\n",
    "from calendar import weekday, day_name\n",
    "import scipy as sp\n",
    "import statsmodels.api as sm\n",
    "import scipy as sp\n",
    "import seaborn as sns\n",
    "import matplotlib as mpl\n",
    "import matplotlib.pylab as plt\n",
    "import statsmodels.stats.api as sms\n",
    "%matplotlib inline\n",
    "import warnings\n",
    "from scipy import stats\n",
    "import MySQLdb\n",
    "\n",
    "warnings.filterwarnings('ignore')"
   ]
  },
  {
   "cell_type": "markdown",
   "metadata": {},
   "source": [
    "## MySQL 설치\n",
    "### - pip install PyMySQL\n"
   ]
  },
  {
   "cell_type": "code",
   "execution_count": null,
   "metadata": {},
   "outputs": [],
   "source": [
    "# write ubuntu test popular\n",
    "db = MySQLdb.connect(\n",
    "    \"13.125.205.254\",\n",
    "    \"user\",\n",
    "     \"1111\",\n",
    "    \"SPR\",\n",
    "    charset='utf8',\n",
    ")"
   ]
  },
  {
   "cell_type": "code",
   "execution_count": null,
   "metadata": {},
   "outputs": [],
   "source": [
    "    SQL_QUERY = \"\"\"\n",
    "        SELECT *\n",
    "        FROM spr_data;\n",
    "    \"\"\"\n",
    "    curs = db.cursor()\n",
    "    count = curs.execute(SQL_QUERY)\n",
    "    rows = curs.fetchall()\n",
    "\n",
    "    df = pd.read_sql(SQL_QUERY, db)\n"
   ]
  },
  {
   "cell_type": "code",
   "execution_count": null,
   "metadata": {
    "scrolled": true
   },
   "outputs": [],
   "source": [
    "# unique_ids   = pd.Series(df[\"ncodpers\"].unique())\n",
    "# unique_id    = unique_ids.sample(n=130000)\n",
    "# df           = df[df.ncodpers.isin(unique_id)]"
   ]
  },
  {
   "cell_type": "code",
   "execution_count": null,
   "metadata": {
    "scrolled": true
   },
   "outputs": [],
   "source": [
    "df.info()"
   ]
  },
  {
   "cell_type": "code",
   "execution_count": null,
   "metadata": {},
   "outputs": [],
   "source": [
    "df.nomprov.value_counts()"
   ]
  },
  {
   "cell_type": "code",
   "execution_count": null,
   "metadata": {
    "scrolled": true
   },
   "outputs": [],
   "source": [
    "SQL_QUERY = \"\"\"\n",
    "    SELECT *\n",
    "    FROM spr_test_data;\n",
    "\"\"\"\n",
    "\n",
    "curs = db.cursor()\n",
    "count = curs.execute(SQL_QUERY)\n",
    "rows = curs.fetchall()\n",
    "\n",
    "test_df = pd.read_sql(SQL_QUERY, db)\n",
    "test_df"
   ]
  },
  {
   "cell_type": "code",
   "execution_count": null,
   "metadata": {},
   "outputs": [],
   "source": [
    "test_df['segmento'].value_counts()"
   ]
  },
  {
   "cell_type": "code",
   "execution_count": null,
   "metadata": {
    "scrolled": true
   },
   "outputs": [],
   "source": [
    "df.info()"
   ]
  },
  {
   "cell_type": "code",
   "execution_count": null,
   "metadata": {},
   "outputs": [],
   "source": [
    "engine = create_engine(\"mysql+mysqldb://root:\" + pw + \"@13.125.205.254/SPR\")\n",
    "\n",
    "tmp_train.to_sql(name=\"spr_test_data\", con=engine, if_exists='replace')"
   ]
  },
  {
   "cell_type": "markdown",
   "metadata": {},
   "source": [
    "- **`fecha_dato`** :  날짜\n",
    "- **`ncodpers`** :  고객 코드\n",
    "- **`ind_empleado`** : A 활성, B 종 고용, F 자회사, N 종업원 없음, P 적극\n",
    "- **`pais_residencia`** :  고객의 국가 거주지\n",
    "- **`sexo`** :  성별\n",
    "- **`age`** :  나이 \n",
    "- **`fecha_alta`** :  고객이 은행의 최초 계약자가 된 날짜\n",
    "- **`ind_nuevo`** :  최근 6개월 이내에 등록한 고객\n",
    "- **`antiguedad`** : 가입 기간\n",
    "- **`indrel`** :  1, 99 (월간 주 고객이지만 월말이 아님)\n",
    "- **`ult_fec_cli_1t`** :  최종 고객이 최종 고객 일 경우 (월말이 아닌 경우)\n",
    "- **`indrel_1mes`** :  월초에 고객 유형 1 (First / Primary 고객), 2 (공동 운영자), P (잠재 고객), 3 (이전 기본), 4 (이전 공동 운영자)\n",
    "- **`tiprel_1mes`** :  A (활성), I (비활성), P (이전 고객), R (잠재적)\n",
    "- **`indresi`** :  거주지 국가 (거주 국가가 은행 국가와 동일한 경우 거주 색인) (S (예) 또는 N (아니오))\n",
    "- **`indext`** :  고객의 출생 국가가 은행 국가와 다른 경우 외국인 색인 (S (예) 또는 N (아니오))\n",
    "- **`conyuemp`** :  배우자 색인. 고객이 직원의 배우자 인 경우 1\n",
    "- **`canal_entrada`** :   채널\n",
    "- **`indfall`** :  사망 한 색인. N / S\n",
    "- **`tipodom`** :  유형. 1, 기본 주소\n",
    "- **`cod_prov`** : 도 코드 (고객의 주소)\n",
    "- **`nomprov`** :  성 이름\n",
    "- **`ind_actividad_cliente`** :  활동 색인 (1, 활성 고객, 0, 비활성 고객)\n",
    "- **`renta`** :  가구의 총소득 세그먼트 세분화 : 01 - VIP, 02 - 개인 03 - 대학 졸업\n",
    "- **`ind_ahor_fin_ult1`** :  계정 저장 중\n",
    "- **`ind_aval_fin_ult1`** :  보장\n",
    "- **`ind_cco_fin_ult1`** :  현재 계정\n",
    "- **`ind_cder_fin_ult1`** :  Derivada 계정\n",
    "- **`ind_cno_fin_ult1`** :  급여 계정\n",
    "- **`ind_ctju_fin_ult1`** :  주니어 계좌\n",
    "- **`ind_ctma_fin_ult1`** :  특정 계정\n",
    "- **`ind_ctop_fin_ult1`** :  특정 계정\n",
    "- **`ind_ctpp_fin_ult1`** :  특정 Plus 계정\n",
    "- **`ind_deco_fin_ult1`** :  단기 예금\n",
    "- **`ind_deme_fin_ult1`** :  중기 예금\n",
    "- **`ind_dela_fin_ult1`** :  장기 예금\n",
    "- **`ind_ecue_fin_ult1`** :  전자 계정\n",
    "- **`ind_fond_fin_ult1`** :  자금\n",
    "- **`ind_hip_fin_ult1`** :  모기지\n",
    "- **`ind_plan_fin_ult1`** :  연금\n",
    "- **`ind_pres_fin_ult1`** :  융자\n",
    "- **`ind_reca_fin_ult1`** :  세금\n",
    "- **`ind_tjcr_fin_ult1`** :  신용 카드\n",
    "- **`ind_valo_fin_ult1`** :  증권\n",
    "- **`ind_viv_fin_ult1`** :  집 계좌\n",
    "- **`ind_nomina_ult1`** :  급여\n",
    "- **`ind_nom_pens_ult1`** :  연금\n",
    "- **`ind_recibo_ult1`** :  자동 이체"
   ]
  },
  {
   "cell_type": "code",
   "execution_count": null,
   "metadata": {},
   "outputs": [],
   "source": [
    "train.columns"
   ]
  },
  {
   "cell_type": "code",
   "execution_count": null,
   "metadata": {},
   "outputs": [],
   "source": [
    "train = pd.read_csv(\"./data/train_ver2.csv\")\n",
    "len(train)"
   ]
  },
  {
   "cell_type": "code",
   "execution_count": null,
   "metadata": {},
   "outputs": [],
   "source": [
    "ls = train.columns\n",
    "ls"
   ]
  },
  {
   "cell_type": "code",
   "execution_count": null,
   "metadata": {
    "scrolled": true
   },
   "outputs": [],
   "source": [
    "train.describe().transpose()"
   ]
  },
  {
   "cell_type": "code",
   "execution_count": null,
   "metadata": {
    "scrolled": true
   },
   "outputs": [],
   "source": [
    "train.isnull().sum()"
   ]
  },
  {
   "cell_type": "code",
   "execution_count": null,
   "metadata": {},
   "outputs": [],
   "source": [
    "def clean_data(fi, fo, header, suffix):\n",
    "    head = fi.readline().strip(\"\\n\").split(\",\")\n",
    "    head = [h.strip('\"') for h in head]\n",
    "    for i, h in enumerate(head):\n",
    "        if h == \"nomprov\":\n",
    "            ip = i\n",
    "    print(ip)\n",
    "    n = len(head)\n",
    "    if header:\n",
    "        fo.write(\"%s\\n\" % \",\".join(head))\n",
    "\n",
    "    print(n)\n",
    "    for line in fi:\n",
    "        fields = line.strip(\"\\n\").split(\",\")\n",
    "        if len(fields) > n:\n",
    "            prov = fields[ip] + fields[ip+1]\n",
    "            del fields[ip]\n",
    "            fields[ip] = prov\n",
    "        assert len(fields) == n\n",
    "        fields = [field.strip() for field in fields]\n",
    "        fo.write(\"%s%s\\n\" % (\",\".join(fields), suffix))\n",
    "\n",
    "with open(\"./data/all_clean_test1.csv\", \"w\") as f:\n",
    "    #clean_data(open(\"./data/train_ver2.csv\"), f, True, \"\")\n",
    "    comma24 = \"\".join([\",\" for i in range(24)])\n",
    "    clean_data(open(\"./data/test_ver2.csv\"), f, False, comma24)"
   ]
  },
  {
   "cell_type": "code",
   "execution_count": null,
   "metadata": {},
   "outputs": [],
   "source": [
    "tmp_train = pd.read_csv(\"./data/test_ver2.csv\", sep=',', index_col=None)"
   ]
  },
  {
   "cell_type": "code",
   "execution_count": null,
   "metadata": {},
   "outputs": [],
   "source": [
    "tmp_train.info()"
   ]
  },
  {
   "cell_type": "code",
   "execution_count": null,
   "metadata": {},
   "outputs": [],
   "source": [
    "tmp_train.columns"
   ]
  },
  {
   "cell_type": "code",
   "execution_count": null,
   "metadata": {
    "scrolled": true
   },
   "outputs": [],
   "source": [
    "tmp_train['segmento'].value_counts"
   ]
  }
 ],
 "metadata": {
  "kernelspec": {
   "display_name": "Python 3",
   "language": "python",
   "name": "python3"
  },
  "language_info": {
   "codemirror_mode": {
    "name": "ipython",
    "version": 3
   },
   "file_extension": ".py",
   "mimetype": "text/x-python",
   "name": "python",
   "nbconvert_exporter": "python",
   "pygments_lexer": "ipython3",
   "version": "3.6.4"
  }
 },
 "nbformat": 4,
 "nbformat_minor": 2
}
