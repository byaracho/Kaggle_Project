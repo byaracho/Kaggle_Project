{
 "cells": [
  {
   "cell_type": "code",
   "execution_count": 1,
   "metadata": {},
   "outputs": [
    {
     "name": "stdout",
     "output_type": "stream",
     "text": [
      "Populating the interactive namespace from numpy and matplotlib\n"
     ]
    },
    {
     "name": "stderr",
     "output_type": "stream",
     "text": [
      "/anaconda3/lib/python3.6/site-packages/statsmodels/compat/pandas.py:56: FutureWarning: The pandas.core.datetools module is deprecated and will be removed in a future version. Please use the pandas.tseries module instead.\n",
      "  from pandas.core import datetools\n"
     ]
    }
   ],
   "source": [
    "import scipy as sp\n",
    "from scipy import stats\n",
    "import statsmodels.api as sm\n",
    "import statsmodels.formula.api as smf\n",
    "import statsmodels.stats.api as sms\n",
    "from pandas.core import datetools\n",
    "\n",
    "import warnings\n",
    "\n",
    "warnings.filterwarnings('ignore')\n",
    "get_ipython().magic('matplotlib inline')\n",
    "\n",
    "import numpy as np\n",
    "import pandas as pd\n",
    "import seaborn as sns\n",
    "import matplotlib.pyplot as plt\n",
    "%pylab inline\n",
    "pylab.rcParams['figure.figsize'] = (10, 6) \n",
    "\n",
    "pd.set_option('display.height', 1000)\n",
    "pd.set_option('display.max_rows', 500)\n",
    "pd.set_option('display.max_columns', 500)\n",
    "pd.set_option('display.width', 1000)"
   ]
  },
  {
   "cell_type": "markdown",
   "metadata": {},
   "source": [
    "# feature 24개\n",
    "\n",
    "- fecha_dato : The table is partitioned for this column\n",
    "\n",
    "- ncodpers : Customer code\n",
    "\n",
    "- ind_empleado : Employee index A : active, B : ex-employed, F : filial, N : not employee, P : pasive #직원 여부\n",
    "\n",
    "- pais_residencia : Customer's Country residence #거주지\n",
    "\n",
    "- sexo : Customer's sex #성별\n",
    "\n",
    "- age : Age #나이\n",
    "\n",
    "- fecha_alta : The date in which the customer became as the first holder of a contract in the bank #처음 가입 날짜\n",
    "\n",
    "- ind_nuevo : New customer Index. 1 if the customer registered in the last 6 months. #최근 6개월 가입 여부(신규가입자)\n",
    "\n",
    "- antiguedad : Customer seniority (in months) #유지 개월 수\n",
    "\n",
    "- indrel : 1 (First/Primary), 99 (Primary customer during the month but not at the end of the month) #주고객층 여부\n",
    "\n",
    "- ult_fec_cli_1t : Last date as primary customer (if he isn't at the end of the month) #주고객층이었던 마지막 날짜\n",
    "\n",
    "- indrel_1mes : Customer type at the beginning of the month ,1 (First/Primary customer), 2 (co-owner),P (Potential),3 (former primary), 4(former co-owner) #고객 타입(주고객, 공동소유자, 잠재고객, 이전 주고객, 이전 공동소유자)\n",
    "\n",
    "- tiprel_1mes : Customer relation type at the beginning of the month, A (active), I (inactive), P (former customer),R (Potential) #월초 고객 타입\n",
    "\n",
    "- indresi : Residence index (S (Yes) or N (No) if the residence country is the same than the bank country) #거주지 인덱스 : 거주 국가와 은행 국가의 일치 여부\n",
    "\n",
    "- indext : Foreigner index (S (Yes) or N (No) if the customer's birth country is different than the bank country) #외국인 인덱스 : 출생 국가와 은행 국가의 일치 여부\n",
    "\n",
    "- conyuemp : Spouse index. 1 if the customer is spouse of an employee #배우자 인덱스 : 직원의 배우자인 경우\n",
    "\n",
    "- canal_entrada : channel used by the customer to join #가입한 채널\n",
    "\n",
    "- indfall : Deceased index. N/S #사망 여부\n",
    "\n",
    "- tipodom : Addres type. 1, primary address #주소 타입 : 1일 경우 주요 주소\n",
    "\n",
    "- cod_prov : Province code (customer's address) #거주지 지역 코드\n",
    "\n",
    "- nomprov : Province name #지역 이름\n",
    "\n",
    "- ind_actividad_cliente : Activity index (1, active customer; 0, inactive customer) #활동 인덱스 : 1, 0\n",
    "\n",
    "- renta : Gross income of the household #총 수입\n",
    "\n",
    "- segmento : segmentation: 01 - VIP, 02 - Individuals 03 - college graduated #구분 : VIP / 개인 / 대학졸업자\n",
    "\n",
    "# Class 24개\n",
    "\n",
    "- ind_ahor_fin_ult1 : Saving Account #저축통장\n",
    "- ind_aval_fin_ult1 : Guarantees #보증\n",
    "- ind_cco_fin_ult1 : Current Accounts #예금\n",
    "- ind_cder_fin_ult1 : Derivada Account #파생계좌\n",
    "- ind_cno_fin_ult1\tPayroll Account #월급통장\n",
    "- ind_ctju_fin_ult1 : Junior Account #어린이계좌\n",
    "- ind_ctma_fin_ult1\t: Más particular Account #특별계좌1\n",
    "- ind_ctop_fin_ult1 : particular Account #특별계좌2\n",
    "- ind_ctpp_fin_ult1 : particular Plus Account #특별계좌3\n",
    "- ind_deco_fin_ult1 : Short-term deposits #단기예금\n",
    "- ind_deme_fin_ult1 : Medium-term deposits #중기예금\n",
    "- ind_dela_fin_ult1 : Long-term deposits #장기예금\n",
    "- ind_ecue_fin_ult1\t: e-account #온라인계좌\n",
    "- ind_fond_fin_ult1\t: Funds #펀드\n",
    "- ind_hip_fin_ult1 : Mortgage #담보대출\n",
    "- ind_plan_fin_ult1 : Pensions #연금 \n",
    "- ind_pres_fin_ult1 : Loans #대출\n",
    "- ind_reca_fin_ult1 : Taxes #세금 \n",
    "- ind_tjcr_fin_ult1 : Credit Card #신용카드\n",
    "- ind_valo_fin_ult1 : Securities #증권\n",
    "- ind_viv_fin_ult1 : Home Account #내집마련계좌\n",
    "- ind_nomina_ult1 : Payroll #월급\n",
    "- ind_nom_pens_ult1 : Pensions #연금\n",
    "- ind_recibo_ult1 : Direct Debit #자동이체"
   ]
  },
  {
   "cell_type": "code",
   "execution_count": null,
   "metadata": {},
   "outputs": [
    {
     "name": "stdout",
     "output_type": "stream",
     "text": [
      "130000.0\n",
      "<class 'int'>\n"
     ]
    }
   ],
   "source": [
    "type(1.3e5)\n",
    "print(1.3e5)\n",
    "print(type(130000))"
   ]
  },
  {
   "cell_type": "code",
   "execution_count": null,
   "metadata": {},
   "outputs": [
    {
     "name": "stdout",
     "output_type": "stream",
     "text": [
      "CPU times: user 5 µs, sys: 1e+03 ns, total: 6 µs\n",
      "Wall time: 10 µs\n"
     ]
    }
   ],
   "source": [
    "%time\n",
    "# limit_rows = 1000000\n",
    "train = pd.read_csv(\"train.csv\", dtype={\"sexo\":str, \"ind_nuevo\":str, \n",
    "                                  \"ult_fec_cli_1t\":str, \n",
    "                                  \"indext\":str})\n",
    "#, nrows=limit_rows"
   ]
  },
  {
   "cell_type": "code",
   "execution_count": null,
   "metadata": {},
   "outputs": [],
   "source": [
    "train.ncodpers = train.ncodpers.astype(int)"
   ]
  },
  {
   "cell_type": "code",
   "execution_count": null,
   "metadata": {},
   "outputs": [],
   "source": [
    "#Returns a random sample of items from an axis of object.\n",
    "unique_ids = pd.Series(train[\"ncodpers\"].unique()) #ncodpers : 고객넘버\n",
    "unique_id = unique_ids.sample(n=130000)\n",
    "train = train[train.ncodpers.isin(unique_id)]"
   ]
  },
  {
   "cell_type": "code",
   "execution_count": null,
   "metadata": {},
   "outputs": [],
   "source": [
    "train[\"ncodpers\"].count()"
   ]
  },
  {
   "cell_type": "code",
   "execution_count": null,
   "metadata": {},
   "outputs": [],
   "source": [
    "#pandas.to_numeric(arg, errors='raise', downcast=None)\n",
    "#If ‘coerce’, then invalid parsing will be set as NaN\n",
    "train[\"age\"] = pd.to_numeric(train[\"age\"], errors=\"coerce\")\n",
    "train[\"antiguedad\"] = pd.to_numeric(train[\"antiguedad\"], errors=\"coerce\") \n",
    "train[\"indrel_1mes\"] = pd.to_numeric(train[\"indrel_1mes\"], errors=\"coerce\") "
   ]
  },
  {
   "cell_type": "code",
   "execution_count": null,
   "metadata": {},
   "outputs": [],
   "source": [
    "train[\"age\"].dtypes"
   ]
  },
  {
   "cell_type": "markdown",
   "metadata": {},
   "source": [
    "### Missing Data"
   ]
  },
  {
   "cell_type": "code",
   "execution_count": null,
   "metadata": {
    "scrolled": false
   },
   "outputs": [],
   "source": [
    "train.isnull().sum()"
   ]
  },
  {
   "cell_type": "code",
   "execution_count": null,
   "metadata": {},
   "outputs": [],
   "source": [
    "train = train.drop([\"ult_fec_cli_1t\", \"conyuemp\"], axis=1)"
   ]
  },
  {
   "cell_type": "code",
   "execution_count": null,
   "metadata": {},
   "outputs": [],
   "source": [
    "train[\"renta\"] = train[\"renta\"].transform(lambda x: x.fillna(x.mean()))"
   ]
  },
  {
   "cell_type": "code",
   "execution_count": null,
   "metadata": {},
   "outputs": [],
   "source": [
    "train[train[\"antiguedad\"] < 0] = 0"
   ]
  },
  {
   "cell_type": "code",
   "execution_count": null,
   "metadata": {},
   "outputs": [],
   "source": [
    "#total num of products\n",
    "train[\"tot_products\"] = train.loc[:,\"ind_ahor_fin_ult1\":\"ind_recibo_ult1\"].sum(axis=1)\n",
    "train[\"tot_products\"] = pd.to_numeric(train[\"tot_products\"], errors=\"coerce\") "
   ]
  },
  {
   "cell_type": "code",
   "execution_count": null,
   "metadata": {},
   "outputs": [],
   "source": [
    "train['pais_residencia'].describe()"
   ]
  },
  {
   "cell_type": "code",
   "execution_count": null,
   "metadata": {},
   "outputs": [],
   "source": [
    "train['ind_empleado'].value_counts()"
   ]
  },
  {
   "cell_type": "code",
   "execution_count": null,
   "metadata": {},
   "outputs": [],
   "source": [
    "#for visualization, remove minority\n",
    "train = train.loc[lambda train: train.pais_residencia == \"ES\", :]\n",
    "train = train.loc[lambda train: train.ind_empleado == \"N\", :]"
   ]
  },
  {
   "cell_type": "code",
   "execution_count": null,
   "metadata": {},
   "outputs": [],
   "source": [
    "train = train.dropna(axis=0)"
   ]
  },
  {
   "cell_type": "code",
   "execution_count": null,
   "metadata": {},
   "outputs": [],
   "source": [
    "train.count(0)"
   ]
  },
  {
   "cell_type": "code",
   "execution_count": null,
   "metadata": {},
   "outputs": [],
   "source": [
    "train.ind_actividad_cliente = train.ind_actividad_cliente.astype(int)"
   ]
  },
  {
   "cell_type": "markdown",
   "metadata": {},
   "source": [
    "### test data"
   ]
  },
  {
   "cell_type": "code",
   "execution_count": null,
   "metadata": {},
   "outputs": [],
   "source": [
    "%time\n",
    "test = pd.read_csv(\"test.csv\", dtype={\"sexo\":str, \"ind_nuevo\":str, \n",
    "                                  \"ult_fec_cli_1t\":str, \n",
    "                                  \"indext\":str})"
   ]
  },
  {
   "cell_type": "code",
   "execution_count": null,
   "metadata": {},
   "outputs": [],
   "source": [
    "test.shape"
   ]
  },
  {
   "cell_type": "code",
   "execution_count": null,
   "metadata": {},
   "outputs": [],
   "source": [
    "test[\"age\"] = pd.to_numeric(train[\"age\"], errors=\"coerce\")\n",
    "test[\"antiguedad\"] = pd.to_numeric(train[\"antiguedad\"], errors=\"coerce\") \n"
   ]
  },
  {
   "cell_type": "code",
   "execution_count": null,
   "metadata": {},
   "outputs": [],
   "source": [
    "test.isnull().sum()"
   ]
  },
  {
   "cell_type": "code",
   "execution_count": null,
   "metadata": {},
   "outputs": [],
   "source": [
    "test[\"canal_entrada\"].mode()"
   ]
  },
  {
   "cell_type": "code",
   "execution_count": null,
   "metadata": {},
   "outputs": [],
   "source": [
    "test[\"sexo\"] = test[\"sexo\"].transform(lambda x: x.fillna('V'))"
   ]
  },
  {
   "cell_type": "code",
   "execution_count": null,
   "metadata": {},
   "outputs": [],
   "source": [
    "test[\"segmento\"] = test[\"segmento\"].transform(lambda x: x.fillna('02 - PARTICULARES'))"
   ]
  },
  {
   "cell_type": "code",
   "execution_count": null,
   "metadata": {},
   "outputs": [],
   "source": [
    "test[\"cod_prov\"] = test[\"cod_prov\"].transform(lambda x: x.fillna('28.0'))"
   ]
  },
  {
   "cell_type": "code",
   "execution_count": null,
   "metadata": {},
   "outputs": [],
   "source": [
    "test[\"nomprov\"] = test[\"nomprov\"].transform(lambda x: x.fillna('MADRID'))"
   ]
  },
  {
   "cell_type": "code",
   "execution_count": null,
   "metadata": {},
   "outputs": [],
   "source": [
    "test[\"canal_entrada\"] = test[\"canal_entrada\"].transform(lambda x: x.fillna('KHE'))"
   ]
  },
  {
   "cell_type": "code",
   "execution_count": null,
   "metadata": {},
   "outputs": [],
   "source": [
    "test.ind_actividad = test.ind_actividad_cliente.astype(int)"
   ]
  },
  {
   "cell_type": "code",
   "execution_count": null,
   "metadata": {},
   "outputs": [],
   "source": [
    "test.isnull().sum()"
   ]
  },
  {
   "cell_type": "markdown",
   "metadata": {},
   "source": [
    "### 변수 선택"
   ]
  },
  {
   "cell_type": "code",
   "execution_count": null,
   "metadata": {},
   "outputs": [],
   "source": [
    "train_x = train[['sexo', 'renta', 'ind_nuevo', 'cod_prov', 'segmento', 'ind_actividad_cliente']]"
   ]
  },
  {
   "cell_type": "code",
   "execution_count": null,
   "metadata": {},
   "outputs": [],
   "source": [
    "test_x = test[['sexo', 'renta', 'ind_nuevo', 'cod_prov', 'segmento', 'ind_actividad_cliente']]"
   ]
  },
  {
   "cell_type": "markdown",
   "metadata": {},
   "source": [
    "- 클래스 개수"
   ]
  },
  {
   "cell_type": "code",
   "execution_count": null,
   "metadata": {},
   "outputs": [],
   "source": [
    "train_y = train[['ind_ahor_fin_ult1', 'ind_aval_fin_ult1', 'ind_cco_fin_ult1',\n",
    "       'ind_cder_fin_ult1', 'ind_cno_fin_ult1', 'ind_ctju_fin_ult1',\n",
    "       'ind_ctma_fin_ult1', 'ind_ctop_fin_ult1', 'ind_ctpp_fin_ult1',\n",
    "       'ind_deco_fin_ult1', 'ind_deme_fin_ult1', 'ind_dela_fin_ult1',\n",
    "       'ind_ecue_fin_ult1', 'ind_fond_fin_ult1', 'ind_hip_fin_ult1',\n",
    "       'ind_plan_fin_ult1', 'ind_pres_fin_ult1', 'ind_reca_fin_ult1',\n",
    "       'ind_tjcr_fin_ult1', 'ind_valo_fin_ult1', 'ind_viv_fin_ult1',\n",
    "       'ind_nomina_ult1', 'ind_nom_pens_ult1', 'ind_recibo_ult1']]\n",
    "\n",
    "train_count = train_y.sum()\n",
    "train_count = train_count.drop(train_count[train_count == 0].index).sort_values(ascending=False)[:30]\n",
    "count_data = pd.DataFrame({'count' :train_count})\n",
    "count_data.head(24)"
   ]
  },
  {
   "cell_type": "code",
   "execution_count": null,
   "metadata": {},
   "outputs": [],
   "source": [
    "train_x.tail()"
   ]
  },
  {
   "cell_type": "code",
   "execution_count": null,
   "metadata": {},
   "outputs": [],
   "source": [
    "train_xd = pd.get_dummies(train_x)\n",
    "train_xd.tail()"
   ]
  },
  {
   "cell_type": "code",
   "execution_count": null,
   "metadata": {},
   "outputs": [],
   "source": [
    "train_xd.columns"
   ]
  },
  {
   "cell_type": "code",
   "execution_count": null,
   "metadata": {},
   "outputs": [],
   "source": [
    "from sklearn.tree import DecisionTreeClassifier"
   ]
  },
  {
   "cell_type": "code",
   "execution_count": null,
   "metadata": {},
   "outputs": [],
   "source": [
    "%time\n",
    "tree = DecisionTreeClassifier(criterion='entropy', max_depth=10, random_state=0).fit(train_xd, train_y)"
   ]
  },
  {
   "cell_type": "code",
   "execution_count": null,
   "metadata": {},
   "outputs": [],
   "source": [
    "import io\n",
    "import pydot\n",
    "from IPython.core.display import Image \n",
    "from sklearn.tree import export_graphviz\n",
    "\n",
    "def draw_decision_tree(model):\n",
    "    dot_buf = io.StringIO() \n",
    "    export_graphviz(model, out_file=dot_buf, feature_names=['renta', 'cod_prov', 'ind_actividad_cliente', 'sexo_H', 'sexo_V', 'ind_nuevo_ 0', 'ind_nuevo_ 1', 'segmento_01 - TOP', 'segmento_02 - PARTICULARES', 'segmento_03 - UNIVERSITARIO'])\n",
    "    graph = pydot.graph_from_dot_data(dot_buf.getvalue())[0] \n",
    "    image = graph.create_png()\n",
    "    return Image(image)"
   ]
  },
  {
   "cell_type": "code",
   "execution_count": null,
   "metadata": {},
   "outputs": [],
   "source": [
    "test_xd = pd.get_dummies(test_x)\n",
    "test_xd.tail()"
   ]
  },
  {
   "cell_type": "code",
   "execution_count": null,
   "metadata": {},
   "outputs": [],
   "source": [
    "test_y = tree.predict(test_xd)\n",
    "test_y"
   ]
  },
  {
   "cell_type": "code",
   "execution_count": null,
   "metadata": {},
   "outputs": [],
   "source": [
    "submission = pd.read_csv(\"sample_submission.csv\")\n",
    "\n",
    "submission[\"added_products\"] = test_y\n",
    "\n",
    "print(submission.shape)\n",
    "submission.head()"
   ]
  },
  {
   "cell_type": "code",
   "execution_count": null,
   "metadata": {},
   "outputs": [],
   "source": [
    "submission.to_csv(\"1_submission.csv\", index=False)"
   ]
  }
 ],
 "metadata": {
  "kernelspec": {
   "display_name": "Python 3",
   "language": "python",
   "name": "python3"
  },
  "language_info": {
   "codemirror_mode": {
    "name": "ipython",
    "version": 3
   },
   "file_extension": ".py",
   "mimetype": "text/x-python",
   "name": "python",
   "nbconvert_exporter": "python",
   "pygments_lexer": "ipython3",
   "version": "3.6.4"
  }
 },
 "nbformat": 4,
 "nbformat_minor": 2
}
